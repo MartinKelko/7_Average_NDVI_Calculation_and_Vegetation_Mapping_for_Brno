{
 "cells": [
  {
   "cell_type": "code",
   "execution_count": 1,
   "metadata": {},
   "outputs": [],
   "source": [
    "import arcpy"
   ]
  },
  {
   "cell_type": "code",
   "execution_count": 7,
   "metadata": {},
   "outputs": [],
   "source": [
    "arcpy.env.workspace = r\"C:\\EsriTraining\\WFS_interview\\gis_star_task_01\\gis_star_task_01\\NDVI\"\n",
    "arcpy.env.overwriteOutput = True"
   ]
  },
  {
   "cell_type": "code",
   "execution_count": 4,
   "metadata": {},
   "outputs": [],
   "source": [
    "input_rasters = [\"2023-03-03_09-57-06.tiff\",\"2023-05-22_09-57-09.tiff\",\"2023-08-15_09-57-10.tiff\",\"2023-10-02_10-07-02.tiff\"]\n",
    "raster_list = []"
   ]
  },
  {
   "cell_type": "code",
   "execution_count": 5,
   "metadata": {},
   "outputs": [],
   "source": [
    "for raster_file in input_rasters:\n",
    "    raster = arcpy.Raster(raster_file)\n",
    "    raster_list.append(raster)"
   ]
  },
  {
   "cell_type": "code",
   "execution_count": 8,
   "metadata": {},
   "outputs": [],
   "source": [
    "def calc_average(*rasters):\n",
    "    valid_rasters = [r for r in rasters if arcpy.Exists(r)] \n",
    "    valid_pixel_count = arcpy.sa.Con((valid_rasters[0] != -999), 1)  \n",
    "    total_sum = arcpy.sa.CellStatistics(valid_rasters, \"SUM\", \"DATA\")\n",
    "    return total_sum / valid_pixel_count"
   ]
  },
  {
   "cell_type": "code",
   "execution_count": 9,
   "metadata": {},
   "outputs": [],
   "source": [
    "average_raster = calc_average(*raster_list)"
   ]
  },
  {
   "cell_type": "code",
   "execution_count": 10,
   "metadata": {},
   "outputs": [],
   "source": [
    "output_path = r\"C:\\EsriTraining\\WFS_interview\\gis_star_task_01\\gis_star_task_01\\output_path/average_raster.tif\"\n",
    "average_raster.save(output_path)"
   ]
  },
  {
   "cell_type": "code",
   "execution_count": 11,
   "metadata": {},
   "outputs": [
    {
     "name": "stdout",
     "output_type": "stream",
     "text": [
      "Average raster saved to: C:\\EsriTraining\\WFS_interview\\gis_star_task_01\\gis_star_task_01\\output_path/average_raster.tif\n"
     ]
    }
   ],
   "source": [
    "print(\"Average raster saved to:\", output_path)"
   ]
  },
  {
   "cell_type": "code",
   "execution_count": null,
   "metadata": {},
   "outputs": [],
   "source": []
  }
 ],
 "metadata": {
  "kernelspec": {
   "display_name": "ArcGISPro",
   "language": "Python",
   "name": "python3"
  },
  "language_info": {
   "file_extension": ".py",
   "name": "python",
   "version": "3"
  }
 },
 "nbformat": 4,
 "nbformat_minor": 2
}
